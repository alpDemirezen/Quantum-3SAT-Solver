{
 "cells": [
  {
   "cell_type": "code",
   "execution_count": 1,
   "id": "technical-therapist",
   "metadata": {},
   "outputs": [],
   "source": [
    "def analysis(n,m):\n",
    "    \n",
    "    from collections import defaultdict\n",
    "    import itertools as it\n",
    "    \n",
    "    soln = '1'*n\n",
    "    L = list(map(''.join, it.product('01', repeat=n)))\n",
    "\n",
    "    States=[]\n",
    "    States.append(L)\n",
    "    d=defaultdict(int)\n",
    "    keyd = defaultdict(int)\n",
    "    alld=defaultdict()\n",
    "\n",
    " \n",
    "    for t in range(m):\n",
    "        newStates=[]\n",
    "        for i in range(n):\n",
    "\n",
    "            for k in States:\n",
    "                temps = []\n",
    "                for l in k:\n",
    "\n",
    "                    if l==soln:\n",
    "                        s=l\n",
    "                    else:\n",
    "                        s = ''\n",
    "                        for j in range(len(l)):\n",
    "                            if i!=j:\n",
    "                                s+= l[j]\n",
    "\n",
    "                            else:\n",
    "                                if l[i]=='0':\n",
    "                                    s+='1'\n",
    "                                else:\n",
    "                                    s+='0'\n",
    "\n",
    "                    temps.append(s)  \n",
    "\n",
    "                newStates.append(temps)\n",
    "\n",
    "\n",
    "\n",
    "        States=(newStates)\n",
    "        #print(States)\n",
    "        for s in States:\n",
    "            d[f'{sorted(s)}']+=1\n",
    "            keyd[f'{sorted(s)}']=1\n",
    "\n",
    "        #for key,v in d.items():\n",
    "            #print(key,v)\n",
    "        alld[t]=d\n",
    "        d=defaultdict(int)\n",
    "        #print(t)\n",
    "    \n",
    "    probs = []\n",
    "    for t,d in alld.items():\n",
    "        s = sum(d.values())*(2**n)\n",
    "        c1=0\n",
    "        for key,count in d.items():\n",
    "            c1 += key.count(soln)*count\n",
    "        probs.append(c1/s)\n",
    "    \n",
    "    return probs"
   ]
  },
  {
   "cell_type": "code",
   "execution_count": null,
   "id": "intensive-mechanics",
   "metadata": {},
   "outputs": [
    {
     "name": "stdout",
     "output_type": "stream",
     "text": [
      "[0.5, 0.625, 0.75, 0.8125, 0.875, 0.90625, 0.9375, 0.953125, 0.96875, 0.9765625]\n",
      "[0.25, 0.3333333333333333, 0.4166666666666667, 0.48148148148148145, 0.5462962962962963, 0.5967078189300411, 0.647119341563786, 0.6863283036122543, 0.7255372656607224, 0.7560331250317532]\n",
      "[0.125, 0.171875, 0.21875, 0.259765625, 0.30078125, 0.33740234375, 0.3740234375, 0.40679931640625, 0.4395751953125, 0.4689178466796875]\n"
     ]
    }
   ],
   "source": [
    "d = {}\n",
    "iter = 10\n",
    "for i in range(2,10): # i: number of  qubits\n",
    "    d[i] = analysis(i,iter) #iter: max number of iterations\n",
    "    print(d[i]) # list of probabilities for different number of qubits\n",
    "    "
   ]
  },
  {
   "cell_type": "code",
   "execution_count": null,
   "id": "premier-mandate",
   "metadata": {},
   "outputs": [],
   "source": [
    "filehandler = open(\"quantum_walk\",\"wb\")\n",
    "pickle.dump(d,filehandler)"
   ]
  },
  {
   "cell_type": "code",
   "execution_count": 3,
   "id": "contemporary-basin",
   "metadata": {},
   "outputs": [
    {
     "name": "stdout",
     "output_type": "stream",
     "text": [
      "['0000']\n"
     ]
    }
   ],
   "source": [
    "n=4\n",
    "import itertools as it\n",
    "L = list(map(''.join, it.product('0', repeat=n)))\n",
    "print(L)"
   ]
  },
  {
   "cell_type": "code",
   "execution_count": 4,
   "id": "adapted-stock",
   "metadata": {},
   "outputs": [],
   "source": [
    "def classical_analysis(n,m):\n",
    "    \n",
    "    from collections import defaultdict\n",
    "    import itertools as it\n",
    "    \n",
    "    soln = '1'*n\n",
    "    #L = list(map(''.join, it.product('01', repeat=n)))\n",
    "    L = ['0'*n]\n",
    "    States=[]\n",
    "    States.append(L)\n",
    "    d=defaultdict(int)\n",
    "    keyd = defaultdict(int)\n",
    "    alld=defaultdict()\n",
    "\n",
    " \n",
    "    for t in range(m):\n",
    "        newStates=[]\n",
    "        for i in range(n):\n",
    "\n",
    "            for k in States:\n",
    "                temps = []\n",
    "                for l in k:\n",
    "\n",
    "                    if l==soln:\n",
    "                        s=l\n",
    "                    else:\n",
    "                        s = ''\n",
    "                        for j in range(len(l)):\n",
    "                            if i!=j:\n",
    "                                s+= l[j]\n",
    "\n",
    "                            else:\n",
    "                                if l[i]=='0':\n",
    "                                    s+='1'\n",
    "                                else:\n",
    "                                    s+='0'\n",
    "\n",
    "                    temps.append(s)  \n",
    "\n",
    "                newStates.append(temps)\n",
    "\n",
    "\n",
    "\n",
    "        States=(newStates)\n",
    "        #print(States)\n",
    "        for s in States:\n",
    "            d[f'{sorted(s)}']+=1\n",
    "            keyd[f'{sorted(s)}']=1\n",
    "\n",
    "        #for key,v in d.items():\n",
    "            #print(key,v)\n",
    "        alld[t]=d\n",
    "        d=defaultdict(int)\n",
    "        #print(t)\n",
    "    \n",
    "    probs = []\n",
    "    for t,d in alld.items():\n",
    "        s = sum(d.values())*(2**n)\n",
    "        c1=0\n",
    "        for key,count in d.items():\n",
    "            c1 += key.count(soln)*count\n",
    "        probs.append(c1/s)\n",
    "    \n",
    "    return probs"
   ]
  },
  {
   "cell_type": "code",
   "execution_count": 5,
   "id": "smooth-sleeping",
   "metadata": {},
   "outputs": [
    {
     "name": "stdout",
     "output_type": "stream",
     "text": [
      "[0.0, 0.125, 0.125, 0.1875, 0.1875, 0.21875, 0.21875, 0.234375, 0.234375, 0.2421875]\n",
      "[0.0, 0.0, 0.027777777777777776, 0.027777777777777776, 0.04938271604938271, 0.04938271604938271, 0.06618655692729766, 0.06618655692729766, 0.07925621094345374, 0.07925621094345374]\n"
     ]
    },
    {
     "ename": "KeyboardInterrupt",
     "evalue": "",
     "output_type": "error",
     "traceback": [
      "\u001b[1;31m---------------------------------------------------------------------------\u001b[0m",
      "\u001b[1;31mKeyboardInterrupt\u001b[0m                         Traceback (most recent call last)",
      "\u001b[1;32m<ipython-input-5-c83f5f8d56d8>\u001b[0m in \u001b[0;36m<module>\u001b[1;34m\u001b[0m\n\u001b[0;32m      2\u001b[0m \u001b[0miter\u001b[0m \u001b[1;33m=\u001b[0m \u001b[1;36m10\u001b[0m\u001b[1;33m\u001b[0m\u001b[1;33m\u001b[0m\u001b[0m\n\u001b[0;32m      3\u001b[0m \u001b[1;32mfor\u001b[0m \u001b[0mi\u001b[0m \u001b[1;32min\u001b[0m \u001b[0mrange\u001b[0m\u001b[1;33m(\u001b[0m\u001b[1;36m2\u001b[0m\u001b[1;33m,\u001b[0m\u001b[1;36m10\u001b[0m\u001b[1;33m)\u001b[0m\u001b[1;33m:\u001b[0m \u001b[1;31m# i: number of  qubits\u001b[0m\u001b[1;33m\u001b[0m\u001b[1;33m\u001b[0m\u001b[0m\n\u001b[1;32m----> 4\u001b[1;33m     \u001b[0md\u001b[0m\u001b[1;33m[\u001b[0m\u001b[0mi\u001b[0m\u001b[1;33m]\u001b[0m \u001b[1;33m=\u001b[0m \u001b[0mclassical_analysis\u001b[0m\u001b[1;33m(\u001b[0m\u001b[0mi\u001b[0m\u001b[1;33m,\u001b[0m\u001b[0miter\u001b[0m\u001b[1;33m)\u001b[0m \u001b[1;31m#iter: max number of iterations\u001b[0m\u001b[1;33m\u001b[0m\u001b[1;33m\u001b[0m\u001b[0m\n\u001b[0m\u001b[0;32m      5\u001b[0m     \u001b[0mprint\u001b[0m\u001b[1;33m(\u001b[0m\u001b[0md\u001b[0m\u001b[1;33m[\u001b[0m\u001b[0mi\u001b[0m\u001b[1;33m]\u001b[0m\u001b[1;33m)\u001b[0m \u001b[1;31m# list of probabilities for different number of qubits\u001b[0m\u001b[1;33m\u001b[0m\u001b[1;33m\u001b[0m\u001b[0m\n\u001b[0;32m      6\u001b[0m \u001b[1;33m\u001b[0m\u001b[0m\n",
      "\u001b[1;32m<ipython-input-4-22456390be00>\u001b[0m in \u001b[0;36mclassical_analysis\u001b[1;34m(n, m)\u001b[0m\n\u001b[0;32m     38\u001b[0m                     \u001b[0mtemps\u001b[0m\u001b[1;33m.\u001b[0m\u001b[0mappend\u001b[0m\u001b[1;33m(\u001b[0m\u001b[0ms\u001b[0m\u001b[1;33m)\u001b[0m\u001b[1;33m\u001b[0m\u001b[1;33m\u001b[0m\u001b[0m\n\u001b[0;32m     39\u001b[0m \u001b[1;33m\u001b[0m\u001b[0m\n\u001b[1;32m---> 40\u001b[1;33m                 \u001b[0mnewStates\u001b[0m\u001b[1;33m.\u001b[0m\u001b[0mappend\u001b[0m\u001b[1;33m(\u001b[0m\u001b[0mtemps\u001b[0m\u001b[1;33m)\u001b[0m\u001b[1;33m\u001b[0m\u001b[1;33m\u001b[0m\u001b[0m\n\u001b[0m\u001b[0;32m     41\u001b[0m \u001b[1;33m\u001b[0m\u001b[0m\n\u001b[0;32m     42\u001b[0m \u001b[1;33m\u001b[0m\u001b[0m\n",
      "\u001b[1;31mKeyboardInterrupt\u001b[0m: "
     ]
    }
   ],
   "source": [
    "d = {}\n",
    "iter = 10\n",
    "for i in range(2,10): # i: number of  qubits\n",
    "    d[i] = classical_analysis(i,iter) #iter: max number of iterations\n",
    "    print(d[i]) # list of probabilities for different number of qubits\n",
    "    "
   ]
  },
  {
   "cell_type": "code",
   "execution_count": null,
   "id": "intense-continuity",
   "metadata": {},
   "outputs": [],
   "source": []
  }
 ],
 "metadata": {
  "kernelspec": {
   "display_name": "Python 3",
   "language": "python",
   "name": "python3"
  },
  "language_info": {
   "codemirror_mode": {
    "name": "ipython",
    "version": 3
   },
   "file_extension": ".py",
   "mimetype": "text/x-python",
   "name": "python",
   "nbconvert_exporter": "python",
   "pygments_lexer": "ipython3",
   "version": "3.7.3"
  }
 },
 "nbformat": 4,
 "nbformat_minor": 5
}
