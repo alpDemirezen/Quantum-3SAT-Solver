{
 "cells": [
  {
   "cell_type": "code",
   "execution_count": 1,
   "id": "17d1cc3a",
   "metadata": {},
   "outputs": [],
   "source": [
    "import random, re\n",
    "from collections import defaultdict\n",
    "import itertools\n",
    "import pycosat\n",
    "import matplotlib.pyplot as plt\n",
    "import pandas as pd"
   ]
  },
  {
   "cell_type": "code",
   "execution_count": 2,
   "id": "bd64a39b",
   "metadata": {},
   "outputs": [],
   "source": [
    "from qiskit import QuantumRegister, ClassicalRegister, QuantumCircuit, Aer, BasicAer, IBMQ, execute\n",
    "from qiskit.tools.visualization import plot_histogram\n",
    "from qiskit.circuit.quantumcircuit import QuantumCircuit\n",
    "from qiskit.circuit.library.standard_gates import ZGate"
   ]
  },
  {
   "cell_type": "code",
   "execution_count": 3,
   "id": "475904c0",
   "metadata": {},
   "outputs": [],
   "source": [
    "def tcnfgen(n,k,horn=1):\n",
    "    cnf = []\n",
    "    def unique(l,k):\n",
    "        t = random.randint(1,n)\n",
    "        while(t in l):\n",
    "            t = random.randint(1,n)\n",
    "        return t\n",
    "    r = (lambda : random.randint(0,1))\n",
    "    def r_to_sign(x):\n",
    "        if r() == 1:\n",
    "            return x\n",
    "        else:\n",
    "            return -x\n",
    "    for i in range(k):\n",
    "        x = unique([],n)\n",
    "        y = unique([x],n)\n",
    "        z = unique([x, y],n)\n",
    "        if horn:\n",
    "            cnf.append([x, -y,-z])\n",
    "        else:\n",
    "            cnf.append([r_to_sign(x), r_to_sign(y),r_to_sign(z)])\n",
    "    return cnf"
   ]
  },
  {
   "cell_type": "code",
   "execution_count": 4,
   "id": "b96d7980",
   "metadata": {},
   "outputs": [],
   "source": [
    "def create_CNF(n, k):\n",
    "    new_line = []\n",
    "    line = tcnfgen(n, k)\n",
    "    for clause in line:\n",
    "        new_line.append(sorted(clause, key = abs))\n",
    "    return new_line"
   ]
  },
  {
   "cell_type": "code",
   "execution_count": 5,
   "id": "dd516eda",
   "metadata": {},
   "outputs": [],
   "source": [
    "def prepare_clause(circuit, clause):\n",
    "    for element in clause:\n",
    "        if element<0:\n",
    "            circuit.x(abs(element))\n",
    "    \n",
    "    return circuit"
   ]
  },
  {
   "cell_type": "code",
   "execution_count": 6,
   "id": "82e699cc",
   "metadata": {},
   "outputs": [],
   "source": [
    "def or_operator(circuit, clause, counter):\n",
    "    order_clause = [abs(x) for x in clause]\n",
    "    for element in order_clause:\n",
    "        circuit.x(element)\n",
    "    circuit.mcx(order_clause, counter)\n",
    "    circuit.x(counter)\n",
    "    for element in order_clause:\n",
    "        circuit.x(element)\n",
    "    \n",
    "    return circuit"
   ]
  },
  {
   "cell_type": "code",
   "execution_count": 7,
   "id": "09bdd845",
   "metadata": {},
   "outputs": [],
   "source": [
    "def oracle(circuit, n, k, CNF):\n",
    "    counter = n+1 \n",
    "    for clause in CNF:\n",
    "        prepare_clause(circuit, clause)\n",
    "        or_operator(circuit, clause, counter)\n",
    "        counter = counter + 1\n",
    "        prepare_clause(circuit, clause)\n",
    "    \n",
    "    return circuit"
   ]
  },
  {
   "cell_type": "code",
   "execution_count": 8,
   "id": "b1857a97",
   "metadata": {},
   "outputs": [],
   "source": [
    "def change_if_unsatisfied(circuit, n):\n",
    "    r = random.randint(1,n+1)\n",
    "    circuit.x(0)\n",
    "    circuit.cx(0, r)\n",
    "    circuit.x(0)\n",
    "    circuit.reset(0)\n",
    "    \n",
    "    return circuit"
   ]
  },
  {
   "cell_type": "code",
   "execution_count": 9,
   "id": "fb54a546",
   "metadata": {},
   "outputs": [],
   "source": [
    "def Quantum_Schoning(circuit, n, k, CNF):\n",
    "    \n",
    "    oracle(circuit, n, k, CNF)\n",
    "    circuit.mcx(list(range(n+1, n+k+1)), 0)\n",
    "    circuit.barrier()\n",
    "    circuit.reset(list(range(n+1, n+k+1)))\n",
    "    change_if_unsatisfied(circuit, n)\n",
    "    circuit.barrier()\n",
    "    \n",
    "    return circuit"
   ]
  },
  {
   "cell_type": "code",
   "execution_count": 10,
   "id": "16fd90b5",
   "metadata": {},
   "outputs": [],
   "source": [
    "n = 4\n",
    "k = 5\n",
    "new_line = create_CNF(n, k)"
   ]
  },
  {
   "cell_type": "code",
   "execution_count": 11,
   "id": "19173c41",
   "metadata": {},
   "outputs": [
    {
     "name": "stdout",
     "output_type": "stream",
     "text": [
      "[1, -2, -3, -4]\n",
      "[1, -2, -3, 4]\n",
      "[1, 2, 3, 4]\n",
      "[1, 2, -3, -4]\n",
      "[1, 2, -3, 4]\n",
      "[-1, 2, -3, -4]\n",
      "[-1, -2, -3, -4]\n",
      "[-1, -2, -3, 4]\n",
      "[-1, -2, 3, -4]\n"
     ]
    }
   ],
   "source": [
    "for sol in pycosat.itersolve(new_line):\n",
    "    print(sol)"
   ]
  },
  {
   "cell_type": "code",
   "execution_count": 14,
   "id": "4cc23fbb",
   "metadata": {},
   "outputs": [
    {
     "name": "stdout",
     "output_type": "stream",
     "text": [
      "0000000000 is observed 607 times\n",
      "0001000000 is observed 2508 times\n",
      "0000100000 is observed 614 times\n",
      "0110100000 is observed 643 times\n",
      "0010000000 is observed 1263 times\n",
      "0111100000 is observed 2485 times\n",
      "0100100000 is observed 658 times\n",
      "0110000000 is observed 613 times\n",
      "0100000000 is observed 609 times\n",
      "\n",
      "\n"
     ]
    }
   ],
   "source": [
    "QSchoning_circuit = QuantumCircuit(n+k+1, n+k+1)\n",
    "\n",
    "for i in range(1, n+1):\n",
    "    QSchoning_circuit.h(i)\n",
    "\n",
    "iterations = 7\n",
    "for i in range(iterations):\n",
    "    Quantum_Schoning(QSchoning_circuit, n, k, new_line)\n",
    "\n",
    "QSchoning_circuit.measure(list(range(1,n+1)), list(range(1,n+1)))\n",
    "\n",
    "job = execute(QSchoning_circuit, Aer.get_backend('qasm_simulator'), shots=10000)\n",
    "#job = execute(mycircuit, backend= simulator_backend, shots=8192)\n",
    "counts = job.result().get_counts(QSchoning_circuit)\n",
    "# print the reverse of the outcome\n",
    "for outcome in counts:\n",
    "    reverse_outcome = ''\n",
    "    for i in outcome:\n",
    "        reverse_outcome = i + reverse_outcome\n",
    "    print(reverse_outcome, \"is observed\", counts[outcome], \"times\")\n",
    "print(\"\\n\")"
   ]
  },
  {
   "cell_type": "code",
   "execution_count": null,
   "id": "1b95964a",
   "metadata": {},
   "outputs": [],
   "source": []
  },
  {
   "cell_type": "code",
   "execution_count": null,
   "id": "2dda7afc",
   "metadata": {},
   "outputs": [],
   "source": []
  }
 ],
 "metadata": {
  "kernelspec": {
   "display_name": "Python 3 (ipykernel)",
   "language": "python",
   "name": "python3"
  },
  "language_info": {
   "codemirror_mode": {
    "name": "ipython",
    "version": 3
   },
   "file_extension": ".py",
   "mimetype": "text/x-python",
   "name": "python",
   "nbconvert_exporter": "python",
   "pygments_lexer": "ipython3",
   "version": "3.7.1"
  }
 },
 "nbformat": 4,
 "nbformat_minor": 5
}
