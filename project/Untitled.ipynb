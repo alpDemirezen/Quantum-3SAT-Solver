{
 "cells": [
  {
   "cell_type": "code",
   "execution_count": 1,
   "id": "auburn-weekly",
   "metadata": {},
   "outputs": [],
   "source": [
    "from qiskit import (Aer, ClassicalRegister, QuantumCircuit,\n",
    "                    QuantumRegister, execute)\n"
   ]
  },
  {
   "cell_type": "code",
   "execution_count": 53,
   "id": "affiliated-president",
   "metadata": {},
   "outputs": [],
   "source": [
    "import random"
   ]
  },
  {
   "cell_type": "code",
   "execution_count": 69,
   "id": "corporate-sender",
   "metadata": {},
   "outputs": [],
   "source": [
    "def controller(fzc, mycircuit, qreg, phrases,ancilla,case):\n",
    "    #qubit_list = phrases.append(qreg)\n",
    "    if case == 0:\n",
    "        mycircuit.append(fzc, [3,0,1,2,4] )\n",
    "    if case == 1:\n",
    "        mycircuit.x(3)\n",
    "        mycircuit.append(fzc, [3,0,1,2,4] )\n",
    "        \n",
    "        \n",
    "    r = random.choice(variables)\n",
    "    mycircuit.x(ancilla[0])\n",
    "    mycircuit.cx(ancilla[0], qreg[r])\n",
    "    mycircuit.barrier()\n",
    "    mycircuit.reset(ancilla[0])"
   ]
  },
  {
   "cell_type": "code",
   "execution_count": 70,
   "id": "approximate-organic",
   "metadata": {},
   "outputs": [],
   "source": [
    "def clause_variables(clause):\n",
    "    return [abs(int(c))-1 for c in clause]\n"
   ]
  },
  {
   "cell_type": "code",
   "execution_count": 71,
   "id": "brave-passport",
   "metadata": {},
   "outputs": [],
   "source": [
    "def findZeroClauseN(mycircuit, variables, ancilla, clause):\n",
    "    clauseToschoning = clause_variables(clause)\n",
    "    for c in clause:\n",
    "        if int(c) < 0:\n",
    "            mycircuit.x(variables[abs(int(c))-1])\n",
    "\n",
    "    for i in clauseToschoning:\n",
    "        mycircuit.x(i)\n",
    "    print(clause,clauseToschoning)\n",
    "\n",
    "    mycircuit.mcx(variables[clauseToschoning], ancilla[0])\n",
    "    mycircuit.x(ancilla[0])\n",
    "\n",
    "    for i in clauseToschoning:\n",
    "        mycircuit.x(variables[i])\n",
    "\n",
    "    for c in clause:\n",
    "        if int(c) < 0:\n",
    "            mycircuit.x(variables[abs(int(c))-1])\n",
    "\n",
    "    return mycircuit"
   ]
  },
  {
   "cell_type": "code",
   "execution_count": 72,
   "id": "educational-victor",
   "metadata": {},
   "outputs": [
    {
     "name": "stdout",
     "output_type": "stream",
     "text": [
      "1\n",
      "[-1, 2, 3] [0, 1, 2]\n",
      "[-1, -2, -3] [0, 1, 2]\n"
     ]
    }
   ],
   "source": [
    "from math import ceil, log\n",
    "\n",
    "line = [\n",
    "    [-1, 2, 3],\n",
    "    [-1, -2, -3]]\n",
    "no_qubits = 3\n",
    "no_phrases = 2\n",
    "\n",
    "variables = QuantumRegister(no_qubits)\n",
    "phrases = QuantumRegister(math.ceil(log(no_phrases)))\n",
    "print(len(phrases))\n",
    "ancilla = QuantumRegister(1)\n",
    "creg = ClassicalRegister(no_qubits)\n",
    "qc = QuantumCircuit(variables, phrases, ancilla, creg)\n",
    "\n",
    "qc.h(variables)\n",
    "qc.h(phrases)\n",
    "\n",
    "fzc_array = []\n",
    "for l in line:\n",
    "    fzc_array.append(findZeroClauseN(QuantumCircuit(variables,ancilla), variables, ancilla, l).to_gate().control(1))\n",
    "    \n",
    "\n",
    "\n",
    "#case 0\n",
    "\n",
    "variables = clause_variables(line[0])\n",
    "controller(fzc_array[0], qc, variables, phrases,ancilla,0)\n",
    "\n",
    "#case 1\n",
    "variables = clause_variables(line[1])\n",
    "controller(fzc_array[1], qc, variables, phrases,ancilla,1)\n",
    "\n",
    "\n",
    "\n",
    "tuple_list = []\n",
    "\n",
    "qc.measure(variables , creg)\n",
    "job = execute(qc, Aer.get_backend(\"qasm_simulator\"), shots=1000)\n",
    "counts = job.result().get_counts(qc)\n"
   ]
  },
  {
   "cell_type": "code",
   "execution_count": 73,
   "id": "previous-dancing",
   "metadata": {},
   "outputs": [
    {
     "name": "stdout",
     "output_type": "stream",
     "text": [
      "{'100': 211, '000': 116, '010': 134, '101': 56, '001': 105, '011': 180, '111': 67, '110': 131}\n"
     ]
    }
   ],
   "source": [
    "print(counts)"
   ]
  },
  {
   "cell_type": "code",
   "execution_count": 74,
   "id": "controversial-treasure",
   "metadata": {},
   "outputs": [
    {
     "data": {
      "text/html": [
       "<pre style=\"word-wrap: normal;white-space: pre;background: #fff0;line-height: 1.1;font-family: &quot;Courier New&quot;,Courier,monospace\">        ┌───┐┌───────────────┐     ┌───┐ ░      ┌───────────────┐           ░ »\n",
       "q250_0: ┤ H ├┤0              ├─────┤ X ├─░──────┤0              ├───────────░─»\n",
       "        ├───┤│               │     └─┬─┘ ░      │               │           ░ »\n",
       "q250_1: ┤ H ├┤1              ├───────┼───░──────┤1              ├───────────░─»\n",
       "        ├───┤│               │       │   ░      │               │     ┌───┐ ░ »\n",
       "q250_2: ┤ H ├┤2 circuit-2042 ├───────┼───░──────┤2 circuit-2080 ├─────┤ X ├─░─»\n",
       "        ├───┤│               │       │   ░ ┌───┐│               │     └─┬─┘ ░ »\n",
       "q251_0: ┤ H ├■               ├───────┼───░─┤ X ├■               ├───────┼───░─»\n",
       "        └───┘│               │┌───┐  │   ░ └───┘│               │┌───┐  │   ░ »\n",
       "q252_0: ─────┤3              ├┤ X ├──■───░──|0>─┤3              ├┤ X ├──■───░─»\n",
       "             └───────────────┘└───┘      ░      └───────────────┘└───┘      ░ »\n",
       " c25: 3/══════════════════════════════════════════════════════════════════════»\n",
       "                                                                              »\n",
       "«             ┌─┐      \n",
       "«q250_0: ─────┤M├──────\n",
       "«             └╥┘┌─┐   \n",
       "«q250_1: ──────╫─┤M├───\n",
       "«              ║ └╥┘┌─┐\n",
       "«q250_2: ──────╫──╫─┤M├\n",
       "«              ║  ║ └╥┘\n",
       "«q251_0: ──────╫──╫──╫─\n",
       "«              ║  ║  ║ \n",
       "«q252_0: ─|0>──╫──╫──╫─\n",
       "«              ║  ║  ║ \n",
       "« c25: 3/══════╩══╩══╩═\n",
       "«              0  1  2 </pre>"
      ],
      "text/plain": [
       "        ┌───┐┌───────────────┐     ┌───┐ ░      ┌───────────────┐           ░ »\n",
       "q250_0: ┤ H ├┤0              ├─────┤ X ├─░──────┤0              ├───────────░─»\n",
       "        ├───┤│               │     └─┬─┘ ░      │               │           ░ »\n",
       "q250_1: ┤ H ├┤1              ├───────┼───░──────┤1              ├───────────░─»\n",
       "        ├───┤│               │       │   ░      │               │     ┌───┐ ░ »\n",
       "q250_2: ┤ H ├┤2 circuit-2042 ├───────┼───░──────┤2 circuit-2080 ├─────┤ X ├─░─»\n",
       "        ├───┤│               │       │   ░ ┌───┐│               │     └─┬─┘ ░ »\n",
       "q251_0: ┤ H ├■               ├───────┼───░─┤ X ├■               ├───────┼───░─»\n",
       "        └───┘│               │┌───┐  │   ░ └───┘│               │┌───┐  │   ░ »\n",
       "q252_0: ─────┤3              ├┤ X ├──■───░──|0>─┤3              ├┤ X ├──■───░─»\n",
       "             └───────────────┘└───┘      ░      └───────────────┘└───┘      ░ »\n",
       " c25: 3/══════════════════════════════════════════════════════════════════════»\n",
       "                                                                              »\n",
       "«             ┌─┐      \n",
       "«q250_0: ─────┤M├──────\n",
       "«             └╥┘┌─┐   \n",
       "«q250_1: ──────╫─┤M├───\n",
       "«              ║ └╥┘┌─┐\n",
       "«q250_2: ──────╫──╫─┤M├\n",
       "«              ║  ║ └╥┘\n",
       "«q251_0: ──────╫──╫──╫─\n",
       "«              ║  ║  ║ \n",
       "«q252_0: ─|0>──╫──╫──╫─\n",
       "«              ║  ║  ║ \n",
       "« c25: 3/══════╩══╩══╩═\n",
       "«              0  1  2 "
      ]
     },
     "execution_count": 74,
     "metadata": {},
     "output_type": "execute_result"
    }
   ],
   "source": [
    "qc.draw()"
   ]
  },
  {
   "cell_type": "code",
   "execution_count": 75,
   "id": "acknowledged-musician",
   "metadata": {},
   "outputs": [
    {
     "ename": "TranspilerError",
     "evalue": "\"Unable to map source basis {('barrier', 5), ('measure', 1), ('ccx', 3), ('cp', 2), ('reset', 1), ('x', 1), ('cu', 2), ('h', 1), ('cx', 2)} to target basis {'delay', 'cx', 'barrier', 'measure', 'snapshot', 'h', 'x', 'reset'} over library <qiskit.circuit.equivalence.EquivalenceLibrary object at 0x0000019DBEEAFD30>.\"",
     "output_type": "error",
     "traceback": [
      "\u001b[1;31m---------------------------------------------------------------------------\u001b[0m",
      "\u001b[1;31mTranspilerError\u001b[0m                           Traceback (most recent call last)",
      "\u001b[1;32m<ipython-input-75-fe705177cab8>\u001b[0m in \u001b[0;36m<module>\u001b[1;34m\u001b[0m\n\u001b[0;32m      1\u001b[0m \u001b[1;32mfrom\u001b[0m \u001b[0mqiskit\u001b[0m \u001b[1;32mimport\u001b[0m \u001b[0mtranspile\u001b[0m\u001b[1;33m\u001b[0m\u001b[1;33m\u001b[0m\u001b[0m\n\u001b[0;32m      2\u001b[0m \u001b[0mbasis_gates\u001b[0m \u001b[1;33m=\u001b[0m \u001b[1;33m[\u001b[0m\u001b[1;34m'h'\u001b[0m\u001b[1;33m,\u001b[0m \u001b[1;34m'cx'\u001b[0m\u001b[1;33m,\u001b[0m \u001b[1;34m'x'\u001b[0m\u001b[1;33m]\u001b[0m\u001b[1;33m\u001b[0m\u001b[1;33m\u001b[0m\u001b[0m\n\u001b[1;32m----> 3\u001b[1;33m \u001b[0mtranspiled\u001b[0m \u001b[1;33m=\u001b[0m \u001b[0mtranspile\u001b[0m\u001b[1;33m(\u001b[0m\u001b[0mqc\u001b[0m\u001b[1;33m,\u001b[0m \u001b[0mbasis_gates\u001b[0m\u001b[1;33m=\u001b[0m\u001b[0mbasis_gates\u001b[0m\u001b[1;33m)\u001b[0m\u001b[1;33m\u001b[0m\u001b[1;33m\u001b[0m\u001b[0m\n\u001b[0m\u001b[0;32m      4\u001b[0m \u001b[0mtranspiled\u001b[0m\u001b[1;33m.\u001b[0m\u001b[0mdraw\u001b[0m\u001b[1;33m(\u001b[0m\u001b[1;33m)\u001b[0m\u001b[1;33m\u001b[0m\u001b[1;33m\u001b[0m\u001b[0m\n",
      "\u001b[1;32m~\\AppData\\Roaming\\Python\\Python37\\site-packages\\qiskit\\compiler\\transpiler.py\u001b[0m in \u001b[0;36mtranspile\u001b[1;34m(circuits, backend, basis_gates, coupling_map, backend_properties, initial_layout, layout_method, routing_method, translation_method, scheduling_method, instruction_durations, dt, approximation_degree, timing_constraints, seed_transpiler, optimization_level, pass_manager, callback, output_name)\u001b[0m\n\u001b[0;32m    291\u001b[0m \u001b[1;33m\u001b[0m\u001b[0m\n\u001b[0;32m    292\u001b[0m     \u001b[1;31m# Transpile circuits in parallel\u001b[0m\u001b[1;33m\u001b[0m\u001b[1;33m\u001b[0m\u001b[1;33m\u001b[0m\u001b[0m\n\u001b[1;32m--> 293\u001b[1;33m     \u001b[0mcircuits\u001b[0m \u001b[1;33m=\u001b[0m \u001b[0mparallel_map\u001b[0m\u001b[1;33m(\u001b[0m\u001b[0m_transpile_circuit\u001b[0m\u001b[1;33m,\u001b[0m \u001b[0mlist\u001b[0m\u001b[1;33m(\u001b[0m\u001b[0mzip\u001b[0m\u001b[1;33m(\u001b[0m\u001b[0mcircuits\u001b[0m\u001b[1;33m,\u001b[0m \u001b[0mtranspile_args\u001b[0m\u001b[1;33m)\u001b[0m\u001b[1;33m)\u001b[0m\u001b[1;33m)\u001b[0m\u001b[1;33m\u001b[0m\u001b[1;33m\u001b[0m\u001b[0m\n\u001b[0m\u001b[0;32m    294\u001b[0m \u001b[1;33m\u001b[0m\u001b[0m\n\u001b[0;32m    295\u001b[0m     \u001b[0mend_time\u001b[0m \u001b[1;33m=\u001b[0m \u001b[0mtime\u001b[0m\u001b[1;33m(\u001b[0m\u001b[1;33m)\u001b[0m\u001b[1;33m\u001b[0m\u001b[1;33m\u001b[0m\u001b[0m\n",
      "\u001b[1;32m~\\AppData\\Roaming\\Python\\Python37\\site-packages\\qiskit\\tools\\parallel.py\u001b[0m in \u001b[0;36mparallel_map\u001b[1;34m(task, values, task_args, task_kwargs, num_processes)\u001b[0m\n\u001b[0;32m    130\u001b[0m         \u001b[1;32mreturn\u001b[0m \u001b[1;33m[\u001b[0m\u001b[1;33m]\u001b[0m\u001b[1;33m\u001b[0m\u001b[1;33m\u001b[0m\u001b[0m\n\u001b[0;32m    131\u001b[0m     \u001b[1;32mif\u001b[0m \u001b[0mlen\u001b[0m\u001b[1;33m(\u001b[0m\u001b[0mvalues\u001b[0m\u001b[1;33m)\u001b[0m \u001b[1;33m==\u001b[0m \u001b[1;36m1\u001b[0m\u001b[1;33m:\u001b[0m\u001b[1;33m\u001b[0m\u001b[1;33m\u001b[0m\u001b[0m\n\u001b[1;32m--> 132\u001b[1;33m         \u001b[1;32mreturn\u001b[0m \u001b[1;33m[\u001b[0m\u001b[0mtask\u001b[0m\u001b[1;33m(\u001b[0m\u001b[0mvalues\u001b[0m\u001b[1;33m[\u001b[0m\u001b[1;36m0\u001b[0m\u001b[1;33m]\u001b[0m\u001b[1;33m,\u001b[0m \u001b[1;33m*\u001b[0m\u001b[0mtask_args\u001b[0m\u001b[1;33m,\u001b[0m \u001b[1;33m**\u001b[0m\u001b[0mtask_kwargs\u001b[0m\u001b[1;33m)\u001b[0m\u001b[1;33m]\u001b[0m\u001b[1;33m\u001b[0m\u001b[1;33m\u001b[0m\u001b[0m\n\u001b[0m\u001b[0;32m    133\u001b[0m \u001b[1;33m\u001b[0m\u001b[0m\n\u001b[0;32m    134\u001b[0m     \u001b[0mPublisher\u001b[0m\u001b[1;33m(\u001b[0m\u001b[1;33m)\u001b[0m\u001b[1;33m.\u001b[0m\u001b[0mpublish\u001b[0m\u001b[1;33m(\u001b[0m\u001b[1;34m\"terra.parallel.start\"\u001b[0m\u001b[1;33m,\u001b[0m \u001b[0mlen\u001b[0m\u001b[1;33m(\u001b[0m\u001b[0mvalues\u001b[0m\u001b[1;33m)\u001b[0m\u001b[1;33m)\u001b[0m\u001b[1;33m\u001b[0m\u001b[1;33m\u001b[0m\u001b[0m\n",
      "\u001b[1;32m~\\AppData\\Roaming\\Python\\Python37\\site-packages\\qiskit\\compiler\\transpiler.py\u001b[0m in \u001b[0;36m_transpile_circuit\u001b[1;34m(circuit_config_tuple)\u001b[0m\n\u001b[0;32m    379\u001b[0m \u001b[1;33m\u001b[0m\u001b[0m\n\u001b[0;32m    380\u001b[0m     result = pass_manager.run(\n\u001b[1;32m--> 381\u001b[1;33m         \u001b[0mcircuit\u001b[0m\u001b[1;33m,\u001b[0m \u001b[0mcallback\u001b[0m\u001b[1;33m=\u001b[0m\u001b[0mtranspile_config\u001b[0m\u001b[1;33m[\u001b[0m\u001b[1;34m\"callback\"\u001b[0m\u001b[1;33m]\u001b[0m\u001b[1;33m,\u001b[0m \u001b[0moutput_name\u001b[0m\u001b[1;33m=\u001b[0m\u001b[0mtranspile_config\u001b[0m\u001b[1;33m[\u001b[0m\u001b[1;34m\"output_name\"\u001b[0m\u001b[1;33m]\u001b[0m\u001b[1;33m\u001b[0m\u001b[1;33m\u001b[0m\u001b[0m\n\u001b[0m\u001b[0;32m    382\u001b[0m     )\n\u001b[0;32m    383\u001b[0m \u001b[1;33m\u001b[0m\u001b[0m\n",
      "\u001b[1;32m~\\AppData\\Roaming\\Python\\Python37\\site-packages\\qiskit\\transpiler\\passmanager.py\u001b[0m in \u001b[0;36mrun\u001b[1;34m(self, circuits, output_name, callback)\u001b[0m\n\u001b[0;32m    214\u001b[0m         \"\"\"\n\u001b[0;32m    215\u001b[0m         \u001b[1;32mif\u001b[0m \u001b[0misinstance\u001b[0m\u001b[1;33m(\u001b[0m\u001b[0mcircuits\u001b[0m\u001b[1;33m,\u001b[0m \u001b[0mQuantumCircuit\u001b[0m\u001b[1;33m)\u001b[0m\u001b[1;33m:\u001b[0m\u001b[1;33m\u001b[0m\u001b[1;33m\u001b[0m\u001b[0m\n\u001b[1;32m--> 216\u001b[1;33m             \u001b[1;32mreturn\u001b[0m \u001b[0mself\u001b[0m\u001b[1;33m.\u001b[0m\u001b[0m_run_single_circuit\u001b[0m\u001b[1;33m(\u001b[0m\u001b[0mcircuits\u001b[0m\u001b[1;33m,\u001b[0m \u001b[0moutput_name\u001b[0m\u001b[1;33m,\u001b[0m \u001b[0mcallback\u001b[0m\u001b[1;33m)\u001b[0m\u001b[1;33m\u001b[0m\u001b[1;33m\u001b[0m\u001b[0m\n\u001b[0m\u001b[0;32m    217\u001b[0m         \u001b[1;32melif\u001b[0m \u001b[0mlen\u001b[0m\u001b[1;33m(\u001b[0m\u001b[0mcircuits\u001b[0m\u001b[1;33m)\u001b[0m \u001b[1;33m==\u001b[0m \u001b[1;36m1\u001b[0m\u001b[1;33m:\u001b[0m\u001b[1;33m\u001b[0m\u001b[1;33m\u001b[0m\u001b[0m\n\u001b[0;32m    218\u001b[0m             \u001b[1;32mreturn\u001b[0m \u001b[0mself\u001b[0m\u001b[1;33m.\u001b[0m\u001b[0m_run_single_circuit\u001b[0m\u001b[1;33m(\u001b[0m\u001b[0mcircuits\u001b[0m\u001b[1;33m[\u001b[0m\u001b[1;36m0\u001b[0m\u001b[1;33m]\u001b[0m\u001b[1;33m,\u001b[0m \u001b[0moutput_name\u001b[0m\u001b[1;33m,\u001b[0m \u001b[0mcallback\u001b[0m\u001b[1;33m)\u001b[0m\u001b[1;33m\u001b[0m\u001b[1;33m\u001b[0m\u001b[0m\n",
      "\u001b[1;32m~\\AppData\\Roaming\\Python\\Python37\\site-packages\\qiskit\\transpiler\\passmanager.py\u001b[0m in \u001b[0;36m_run_single_circuit\u001b[1;34m(self, circuit, output_name, callback)\u001b[0m\n\u001b[0;32m    270\u001b[0m         \"\"\"\n\u001b[0;32m    271\u001b[0m         \u001b[0mrunning_passmanager\u001b[0m \u001b[1;33m=\u001b[0m \u001b[0mself\u001b[0m\u001b[1;33m.\u001b[0m\u001b[0m_create_running_passmanager\u001b[0m\u001b[1;33m(\u001b[0m\u001b[1;33m)\u001b[0m\u001b[1;33m\u001b[0m\u001b[1;33m\u001b[0m\u001b[0m\n\u001b[1;32m--> 272\u001b[1;33m         \u001b[0mresult\u001b[0m \u001b[1;33m=\u001b[0m \u001b[0mrunning_passmanager\u001b[0m\u001b[1;33m.\u001b[0m\u001b[0mrun\u001b[0m\u001b[1;33m(\u001b[0m\u001b[0mcircuit\u001b[0m\u001b[1;33m,\u001b[0m \u001b[0moutput_name\u001b[0m\u001b[1;33m=\u001b[0m\u001b[0moutput_name\u001b[0m\u001b[1;33m,\u001b[0m \u001b[0mcallback\u001b[0m\u001b[1;33m=\u001b[0m\u001b[0mcallback\u001b[0m\u001b[1;33m)\u001b[0m\u001b[1;33m\u001b[0m\u001b[1;33m\u001b[0m\u001b[0m\n\u001b[0m\u001b[0;32m    273\u001b[0m         \u001b[0mself\u001b[0m\u001b[1;33m.\u001b[0m\u001b[0mproperty_set\u001b[0m \u001b[1;33m=\u001b[0m \u001b[0mrunning_passmanager\u001b[0m\u001b[1;33m.\u001b[0m\u001b[0mproperty_set\u001b[0m\u001b[1;33m\u001b[0m\u001b[1;33m\u001b[0m\u001b[0m\n\u001b[0;32m    274\u001b[0m         \u001b[1;32mreturn\u001b[0m \u001b[0mresult\u001b[0m\u001b[1;33m\u001b[0m\u001b[1;33m\u001b[0m\u001b[0m\n",
      "\u001b[1;32m~\\AppData\\Roaming\\Python\\Python37\\site-packages\\qiskit\\transpiler\\runningpassmanager.py\u001b[0m in \u001b[0;36mrun\u001b[1;34m(***failed resolving arguments***)\u001b[0m\n\u001b[0;32m    121\u001b[0m         \u001b[1;32mfor\u001b[0m \u001b[0mpassset\u001b[0m \u001b[1;32min\u001b[0m \u001b[0mself\u001b[0m\u001b[1;33m.\u001b[0m\u001b[0mworking_list\u001b[0m\u001b[1;33m:\u001b[0m\u001b[1;33m\u001b[0m\u001b[1;33m\u001b[0m\u001b[0m\n\u001b[0;32m    122\u001b[0m             \u001b[1;32mfor\u001b[0m \u001b[0mpass_\u001b[0m \u001b[1;32min\u001b[0m \u001b[0mpassset\u001b[0m\u001b[1;33m:\u001b[0m\u001b[1;33m\u001b[0m\u001b[1;33m\u001b[0m\u001b[0m\n\u001b[1;32m--> 123\u001b[1;33m                 \u001b[0mdag\u001b[0m \u001b[1;33m=\u001b[0m \u001b[0mself\u001b[0m\u001b[1;33m.\u001b[0m\u001b[0m_do_pass\u001b[0m\u001b[1;33m(\u001b[0m\u001b[0mpass_\u001b[0m\u001b[1;33m,\u001b[0m \u001b[0mdag\u001b[0m\u001b[1;33m,\u001b[0m \u001b[0mpassset\u001b[0m\u001b[1;33m.\u001b[0m\u001b[0moptions\u001b[0m\u001b[1;33m)\u001b[0m\u001b[1;33m\u001b[0m\u001b[1;33m\u001b[0m\u001b[0m\n\u001b[0m\u001b[0;32m    124\u001b[0m \u001b[1;33m\u001b[0m\u001b[0m\n\u001b[0;32m    125\u001b[0m         \u001b[0mcircuit\u001b[0m \u001b[1;33m=\u001b[0m \u001b[0mdag_to_circuit\u001b[0m\u001b[1;33m(\u001b[0m\u001b[0mdag\u001b[0m\u001b[1;33m)\u001b[0m\u001b[1;33m\u001b[0m\u001b[1;33m\u001b[0m\u001b[0m\n",
      "\u001b[1;32m~\\AppData\\Roaming\\Python\\Python37\\site-packages\\qiskit\\transpiler\\runningpassmanager.py\u001b[0m in \u001b[0;36m_do_pass\u001b[1;34m(self, pass_, dag, options)\u001b[0m\n\u001b[0;32m    152\u001b[0m         \u001b[1;31m# Run the pass itself, if not already run\u001b[0m\u001b[1;33m\u001b[0m\u001b[1;33m\u001b[0m\u001b[1;33m\u001b[0m\u001b[0m\n\u001b[0;32m    153\u001b[0m         \u001b[1;32mif\u001b[0m \u001b[0mpass_\u001b[0m \u001b[1;32mnot\u001b[0m \u001b[1;32min\u001b[0m \u001b[0mself\u001b[0m\u001b[1;33m.\u001b[0m\u001b[0mvalid_passes\u001b[0m\u001b[1;33m:\u001b[0m\u001b[1;33m\u001b[0m\u001b[1;33m\u001b[0m\u001b[0m\n\u001b[1;32m--> 154\u001b[1;33m             \u001b[0mdag\u001b[0m \u001b[1;33m=\u001b[0m \u001b[0mself\u001b[0m\u001b[1;33m.\u001b[0m\u001b[0m_run_this_pass\u001b[0m\u001b[1;33m(\u001b[0m\u001b[0mpass_\u001b[0m\u001b[1;33m,\u001b[0m \u001b[0mdag\u001b[0m\u001b[1;33m)\u001b[0m\u001b[1;33m\u001b[0m\u001b[1;33m\u001b[0m\u001b[0m\n\u001b[0m\u001b[0;32m    155\u001b[0m \u001b[1;33m\u001b[0m\u001b[0m\n\u001b[0;32m    156\u001b[0m             \u001b[1;31m# update the valid_passes property\u001b[0m\u001b[1;33m\u001b[0m\u001b[1;33m\u001b[0m\u001b[1;33m\u001b[0m\u001b[0m\n",
      "\u001b[1;32m~\\AppData\\Roaming\\Python\\Python37\\site-packages\\qiskit\\transpiler\\runningpassmanager.py\u001b[0m in \u001b[0;36m_run_this_pass\u001b[1;34m(self, pass_, dag)\u001b[0m\n\u001b[0;32m    164\u001b[0m             \u001b[1;31m# Measure time if we have a callback or logging set\u001b[0m\u001b[1;33m\u001b[0m\u001b[1;33m\u001b[0m\u001b[1;33m\u001b[0m\u001b[0m\n\u001b[0;32m    165\u001b[0m             \u001b[0mstart_time\u001b[0m \u001b[1;33m=\u001b[0m \u001b[0mtime\u001b[0m\u001b[1;33m(\u001b[0m\u001b[1;33m)\u001b[0m\u001b[1;33m\u001b[0m\u001b[1;33m\u001b[0m\u001b[0m\n\u001b[1;32m--> 166\u001b[1;33m             \u001b[0mnew_dag\u001b[0m \u001b[1;33m=\u001b[0m \u001b[0mpass_\u001b[0m\u001b[1;33m.\u001b[0m\u001b[0mrun\u001b[0m\u001b[1;33m(\u001b[0m\u001b[0mdag\u001b[0m\u001b[1;33m)\u001b[0m\u001b[1;33m\u001b[0m\u001b[1;33m\u001b[0m\u001b[0m\n\u001b[0m\u001b[0;32m    167\u001b[0m             \u001b[0mend_time\u001b[0m \u001b[1;33m=\u001b[0m \u001b[0mtime\u001b[0m\u001b[1;33m(\u001b[0m\u001b[1;33m)\u001b[0m\u001b[1;33m\u001b[0m\u001b[1;33m\u001b[0m\u001b[0m\n\u001b[0;32m    168\u001b[0m             \u001b[0mrun_time\u001b[0m \u001b[1;33m=\u001b[0m \u001b[0mend_time\u001b[0m \u001b[1;33m-\u001b[0m \u001b[0mstart_time\u001b[0m\u001b[1;33m\u001b[0m\u001b[1;33m\u001b[0m\u001b[0m\n",
      "\u001b[1;32m~\\AppData\\Roaming\\Python\\Python37\\site-packages\\qiskit\\transpiler\\passes\\basis\\basis_translator.py\u001b[0m in \u001b[0;36mrun\u001b[1;34m(self, dag)\u001b[0m\n\u001b[0;32m    112\u001b[0m             raise TranspilerError(\n\u001b[0;32m    113\u001b[0m                 \u001b[1;34m\"Unable to map source basis {} to target basis {} \"\u001b[0m\u001b[1;33m\u001b[0m\u001b[1;33m\u001b[0m\u001b[0m\n\u001b[1;32m--> 114\u001b[1;33m                 \u001b[1;34m\"over library {}.\"\u001b[0m\u001b[1;33m.\u001b[0m\u001b[0mformat\u001b[0m\u001b[1;33m(\u001b[0m\u001b[0msource_basis\u001b[0m\u001b[1;33m,\u001b[0m \u001b[0mtarget_basis\u001b[0m\u001b[1;33m,\u001b[0m \u001b[0mself\u001b[0m\u001b[1;33m.\u001b[0m\u001b[0m_equiv_lib\u001b[0m\u001b[1;33m)\u001b[0m\u001b[1;33m\u001b[0m\u001b[1;33m\u001b[0m\u001b[0m\n\u001b[0m\u001b[0;32m    115\u001b[0m             )\n\u001b[0;32m    116\u001b[0m \u001b[1;33m\u001b[0m\u001b[0m\n",
      "\u001b[1;31mTranspilerError\u001b[0m: \"Unable to map source basis {('barrier', 5), ('measure', 1), ('ccx', 3), ('cp', 2), ('reset', 1), ('x', 1), ('cu', 2), ('h', 1), ('cx', 2)} to target basis {'delay', 'cx', 'barrier', 'measure', 'snapshot', 'h', 'x', 'reset'} over library <qiskit.circuit.equivalence.EquivalenceLibrary object at 0x0000019DBEEAFD30>.\""
     ]
    }
   ],
   "source": [
    "from qiskit import transpile\n",
    "basis_gates = ['h', 'cx', 'x']\n",
    "transpiled = transpile(qc, basis_gates=basis_gates)\n",
    "transpiled.draw()"
   ]
  },
  {
   "cell_type": "code",
   "execution_count": null,
   "id": "proper-accuracy",
   "metadata": {},
   "outputs": [],
   "source": [
    "transpiled.draw()"
   ]
  },
  {
   "cell_type": "code",
   "execution_count": null,
   "id": "tender-manhattan",
   "metadata": {},
   "outputs": [],
   "source": []
  }
 ],
 "metadata": {
  "kernelspec": {
   "display_name": "Python 3",
   "language": "python",
   "name": "python3"
  },
  "language_info": {
   "codemirror_mode": {
    "name": "ipython",
    "version": 3
   },
   "file_extension": ".py",
   "mimetype": "text/x-python",
   "name": "python",
   "nbconvert_exporter": "python",
   "pygments_lexer": "ipython3",
   "version": "3.7.3"
  }
 },
 "nbformat": 4,
 "nbformat_minor": 5
}
