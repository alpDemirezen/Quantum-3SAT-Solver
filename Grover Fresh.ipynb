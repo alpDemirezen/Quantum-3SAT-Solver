{
 "cells": [
  {
   "cell_type": "code",
   "execution_count": 1,
   "id": "c68403a6",
   "metadata": {},
   "outputs": [],
   "source": [
    "import random, re\n",
    "from collections import defaultdict\n",
    "import itertools\n",
    "import pycosat\n",
    "import matplotlib.pyplot as plt\n",
    "import pandas as pd"
   ]
  },
  {
   "cell_type": "code",
   "execution_count": 2,
   "id": "01fda129",
   "metadata": {},
   "outputs": [],
   "source": [
    "from qiskit import QuantumRegister, ClassicalRegister, QuantumCircuit, Aer, BasicAer, IBMQ, execute\n",
    "from qiskit.tools.visualization import plot_histogram"
   ]
  },
  {
   "cell_type": "code",
   "execution_count": 3,
   "id": "2bca6fd9",
   "metadata": {},
   "outputs": [],
   "source": [
    "def tcnfgen(n,k,horn=1):\n",
    "    cnf = []\n",
    "    def unique(l,k):\n",
    "        t = random.randint(1,n)\n",
    "        while(t in l):\n",
    "            t = random.randint(1,n)\n",
    "        return t\n",
    "    r = (lambda : random.randint(0,1))\n",
    "    def r_to_sign(x):\n",
    "        if r() == 1:\n",
    "            return x\n",
    "        else:\n",
    "            return -x\n",
    "    for i in range(k):\n",
    "        x = unique([],n)\n",
    "        y = unique([x],n)\n",
    "        z = unique([x, y],n)\n",
    "        if horn:\n",
    "            cnf.append([x, -y,-z])\n",
    "        else:\n",
    "            cnf.append([r_to_sign(x), r_to_sign(y),r_to_sign(z)])\n",
    "    return cnf"
   ]
  },
  {
   "cell_type": "code",
   "execution_count": 4,
   "id": "110c45d0",
   "metadata": {},
   "outputs": [],
   "source": [
    "def create_CNF(n, k):\n",
    "    new_line = []\n",
    "    line = tcnfgen(n, k)\n",
    "    for clause in line:\n",
    "        new_line.append(sorted(clause, key = abs))\n",
    "    return new_line"
   ]
  },
  {
   "cell_type": "code",
   "execution_count": 5,
   "id": "f4511e51",
   "metadata": {},
   "outputs": [],
   "source": [
    "def prepare_clause(circuit, quantum_reg, clause):\n",
    "    for element in clause:\n",
    "        if element<0:\n",
    "            circuit.x(quantum_reg[abs(element)])\n",
    "    return circuit"
   ]
  },
  {
   "cell_type": "code",
   "execution_count": 6,
   "id": "bd18bb4f",
   "metadata": {},
   "outputs": [],
   "source": [
    "def or_operator(circuit,quantum_reg, clause, counter):\n",
    "    order_clause = [abs(x) for x in clause]\n",
    "    for element in order_clause:\n",
    "        circuit.x(quantum_reg[element])\n",
    "    circuit.mcx(order_clause, quantum_reg[counter])\n",
    "    circuit.x(quantum_reg[counter])\n",
    "    for element in order_clause:\n",
    "        circuit.x(quantum_reg[element])\n",
    "    return circuit"
   ]
  },
  {
   "cell_type": "code",
   "execution_count": 7,
   "id": "d9eb4716",
   "metadata": {},
   "outputs": [],
   "source": [
    "def oracle(circuit, n, k,quantum_reg, CNF):\n",
    "    counter = n+1 \n",
    "    for clause in CNF:\n",
    "        prepare_clause(circuit,quantum_reg, clause)\n",
    "        or_operator(circuit,quantum_reg, clause, counter)\n",
    "        counter = counter + 1\n",
    "        prepare_clause(circuit,quantum_reg, clause)\n",
    "    circuit.mcx(quantum_reg[n+1:counter], quantum_reg[0])\n",
    "    for qubit in range(n+1, counter):\n",
    "        circuit.reset(qubit)\n",
    "    return circuit"
   ]
  },
  {
   "cell_type": "code",
   "execution_count": 8,
   "id": "78b444d8",
   "metadata": {},
   "outputs": [],
   "source": [
    "def inversion(circuit,quantum_reg, n):\n",
    "    for i in range(1,n+1):\n",
    "        circuit.h(quantum_reg[i])\n",
    "\n",
    "    for i in range(1,n+1):\n",
    "        circuit.x(quantum_reg[i])\n",
    "    \n",
    "    circuit.mcx(qreg[1:n], quantum_reg[0])\n",
    "\n",
    "    for i in range(1,n+1):\n",
    "        circuit.x(quantum_reg[i])\n",
    "\n",
    "    for i in range(1,n+1):\n",
    "        circuit.h(quantum_reg[i])\n",
    "\n",
    "    circuit.x(quantum_reg[0])"
   ]
  },
  {
   "cell_type": "code",
   "execution_count": 9,
   "id": "23127daa",
   "metadata": {},
   "outputs": [],
   "source": [
    "n = 3\n",
    "k = 5\n",
    "qubit_count = n+1\n",
    "maxN = qubit_count\n",
    "\n",
    "new_line = [[-1,-2,-3],[-1,-2,3],[-1,2,-3],[-1,2,3],[1,-2,-3]]"
   ]
  },
  {
   "cell_type": "code",
   "execution_count": 10,
   "id": "09c0f321",
   "metadata": {},
   "outputs": [
    {
     "name": "stdout",
     "output_type": "stream",
     "text": [
      "[-1, -2, -3]\n",
      "[-1, -2, 3]\n",
      "[-1, 2, -3]\n"
     ]
    }
   ],
   "source": [
    "for sol in pycosat.itersolve(new_line):\n",
    "    print(sol)"
   ]
  },
  {
   "cell_type": "code",
   "execution_count": 11,
   "id": "af94996a",
   "metadata": {},
   "outputs": [
    {
     "data": {
      "text/plain": [
       "'qreg = QuantumRegister(n + k + 1)  # quantum register with max(n+2*k+2+k,2*n+1) qubits\\ncreg = ClassicalRegister(n + k + 1)  # classical register with max(n+2*k+2+k,2*n+1) bits\\nmycircuit = QuantumCircuit(qreg, creg)\\n\\nfor i in range(1, n+1):\\n    mycircuit.h(qreg[i])\\n\\noracle(mycircuit,n, k,qreg, new_line)\\nmycircuit.measure(qreg, creg)\\n\\njob = execute(mycircuit, Aer.get_backend(\\'qasm_simulator\\'), shots=1000)\\n#job = execute(mycircuit, backend= simulator_backend, shots=8192)\\ncounts = job.result().get_counts(mycircuit)\\n\\n# print the reverse of the outcome\\nfor outcome in counts:\\n    reverse_outcome = \\'\\'\\n    for i in outcome:\\n        reverse_outcome = i + reverse_outcome\\n    print(reverse_outcome, \"is observed\", counts[outcome], \"times\")\\nprint(\"\\n\")'"
      ]
     },
     "execution_count": 11,
     "metadata": {},
     "output_type": "execute_result"
    }
   ],
   "source": [
    "\"\"\"qreg = QuantumRegister(n + k + 1)  # quantum register with max(n+2*k+2+k,2*n+1) qubits\n",
    "creg = ClassicalRegister(n + k + 1)  # classical register with max(n+2*k+2+k,2*n+1) bits\n",
    "mycircuit = QuantumCircuit(qreg, creg)\n",
    "\n",
    "for i in range(1, n+1):\n",
    "    mycircuit.h(qreg[i])\n",
    "\n",
    "oracle(mycircuit,n, k,qreg, new_line)\n",
    "mycircuit.measure(qreg, creg)\n",
    "\n",
    "job = execute(mycircuit, Aer.get_backend('qasm_simulator'), shots=1000)\n",
    "#job = execute(mycircuit, backend= simulator_backend, shots=8192)\n",
    "counts = job.result().get_counts(mycircuit)\n",
    "\n",
    "# print the reverse of the outcome\n",
    "for outcome in counts:\n",
    "    reverse_outcome = ''\n",
    "    for i in outcome:\n",
    "        reverse_outcome = i + reverse_outcome\n",
    "    print(reverse_outcome, \"is observed\", counts[outcome], \"times\")\n",
    "print(\"\\n\")\"\"\""
   ]
  },
  {
   "cell_type": "code",
   "execution_count": 12,
   "id": "2581c769",
   "metadata": {},
   "outputs": [
    {
     "name": "stdout",
     "output_type": "stream",
     "text": [
      "011100000 is observed 1233 times\n",
      "010100000 is observed 1210 times\n",
      "011000000 is observed 1697 times\n",
      "010000000 is observed 1776 times\n",
      "000000000 is observed 785 times\n",
      "000100000 is observed 1235 times\n",
      "001100000 is observed 1305 times\n",
      "001000000 is observed 759 times\n",
      "\n",
      "\n"
     ]
    }
   ],
   "source": [
    "qreg = QuantumRegister(n + k + 1) \n",
    "creg = ClassicalRegister(n + k + 1)\n",
    "mycircuit = QuantumCircuit(qreg, creg)\n",
    "\n",
    "for i in range(1, n+1):\n",
    "    mycircuit.h(qreg[i])\n",
    "    \n",
    "iterations = 3\n",
    "mycircuit.x(qreg[0])\n",
    "mycircuit.h(qreg[0])\n",
    "\n",
    "for i in range(iterations):\n",
    "    #query\n",
    "    oracle(mycircuit,n, k,qreg, new_line)\n",
    "    mycircuit.barrier()\n",
    "    #inversion\n",
    "    inversion(mycircuit,qreg, n)\n",
    "    mycircuit.barrier()\n",
    "\n",
    "\n",
    "mycircuit.h(qreg[0])\n",
    "mycircuit.x(qreg[0]) \n",
    "mycircuit.measure(qreg, creg)\n",
    "job = execute(mycircuit, Aer.get_backend('qasm_simulator'), shots=10000)\n",
    "#job = execute(mycircuit, backend= simulator_backend, shots=8192)\n",
    "counts = job.result().get_counts(mycircuit)\n",
    "\n",
    "# print the reverse of the outcome\n",
    "for outcome in counts:\n",
    "    reverse_outcome = ''\n",
    "    for i in outcome:\n",
    "        reverse_outcome = i + reverse_outcome\n",
    "    print(reverse_outcome, \"is observed\", counts[outcome], \"times\")\n",
    "print(\"\\n\")"
   ]
  },
  {
   "cell_type": "code",
   "execution_count": null,
   "id": "02441ced",
   "metadata": {},
   "outputs": [],
   "source": []
  }
 ],
 "metadata": {
  "kernelspec": {
   "display_name": "Python 3 (ipykernel)",
   "language": "python",
   "name": "python3"
  },
  "language_info": {
   "codemirror_mode": {
    "name": "ipython",
    "version": 3
   },
   "file_extension": ".py",
   "mimetype": "text/x-python",
   "name": "python",
   "nbconvert_exporter": "python",
   "pygments_lexer": "ipython3",
   "version": "3.7.1"
  }
 },
 "nbformat": 4,
 "nbformat_minor": 5
}
